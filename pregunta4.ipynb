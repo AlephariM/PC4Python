{
 "cells": [
  {
   "cell_type": "markdown",
   "metadata": {},
   "source": [
    "Almacene los datos de precio de Bitcoin en un archivo txt con un formato que consideré\n",
    "apropiado."
   ]
  },
  {
   "cell_type": "code",
   "execution_count": 2,
   "metadata": {},
   "outputs": [
    {
     "name": "stdout",
     "output_type": "stream",
     "text": [
      "Datos almacenados en 'bitcoin_dolar.txt'.\n"
     ]
    }
   ],
   "source": [
    "import requests\n",
    "\n",
    "def precio_bitcoin():\n",
    "    try:\n",
    "        response = requests.get(\"https://api.coindesk.com/v1/bpi/currentprice.json\")\n",
    "        response.raise_for_status()\n",
    "        #Recupero la informacion como json\n",
    "        data = response.json()\n",
    "        return data[\"bpi\"][\"USD\"][\"rate_float\"]        \n",
    "    except requests.RequestException as e:\n",
    "        print('Error al obtener el precio', e)\n",
    "        return None\n",
    "\n",
    "bitcoin_dolar = precio_bitcoin()\n",
    "\n",
    "if bitcoin_dolar is not None:\n",
    "    # Guardar en un text y si no existe, se crea. solo escribir\n",
    "    with open(\"bitcoin_dolar.txt\", \"w\") as archivotext:\n",
    "        archivotext.write(f\"Precio actual de Bitcoin en USD: {bitcoin_dolar}.\")\n",
    "        archivotext.write(\"Se ha guardado ahora mismito ya.\")\n",
    "    print(\"Datos almacenados en 'bitcoin_dolar.txt'.\")\n",
    "else:\n",
    "    print(\"No hay precio. No se almacenaron datos.\")"
   ]
  }
 ],
 "metadata": {
  "kernelspec": {
   "display_name": "Python 3",
   "language": "python",
   "name": "python3"
  },
  "language_info": {
   "codemirror_mode": {
    "name": "ipython",
    "version": 3
   },
   "file_extension": ".py",
   "mimetype": "text/x-python",
   "name": "python",
   "nbconvert_exporter": "python",
   "pygments_lexer": "ipython3",
   "version": "3.10.13"
  }
 },
 "nbformat": 4,
 "nbformat_minor": 2
}

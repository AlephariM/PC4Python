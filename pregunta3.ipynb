{
 "cells": [
  {
   "cell_type": "markdown",
   "metadata": {},
   "source": [
    "Descargue la imagen que más le agrade, según lo revisado en la clase. Posteriormente crear un\n",
    "programa que permita el almacenamiento de la imagen como un archivo zip. Finalmente cree\n",
    "un código que permita hacer un unzip al archivo zipeado."
   ]
  },
  {
   "cell_type": "code",
   "execution_count": 3,
   "metadata": {},
   "outputs": [
    {
     "name": "stdout",
     "output_type": "stream",
     "text": [
      "Se descargó la imagen.\n",
      "Imagen guardada en el zip: 'imagenes.zip'.\n",
      "Extrayendo la imagen del archivo zip...\n",
      "Imagen extraída.\n"
     ]
    }
   ],
   "source": [
    "import requests\n",
    "from zipfile import ZipFile\n",
    "from io import BytesIO\n",
    "\n",
    "def descargar_urlimagen(url):\n",
    "    response = requests.get(url)\n",
    "    if response.status_code == 200:\n",
    "        return response.content\n",
    "    else:\n",
    "        return None\n",
    "\n",
    "def guardar_al_zip(nombre_archivo, imagen):\n",
    "    with ZipFile(nombre_archivo, 'w') as zip:\n",
    "        zip.writestr(\"imagen_descargada.jpg\", imagen)\n",
    "\n",
    "def extraer_de_zip(nombre_zip):\n",
    "    with ZipFile(nombre_zip, 'r') as zip:\n",
    "        zip.extractall()\n",
    "    \n",
    "url_imagen = \"https://images.unsplash.com/photo-1546527868-ccb7ee7dfa6a?q=80&w=2070&auto=format&fit=crop&ixlib=rb-4.0.3&ixid=M3wxMjA3fDB8MHxwaG90by1wYWdlfHx8fGVufDB8fHx8fA%3D%3D\"\n",
    "\n",
    "\n",
    "imagen = descargar_urlimagen(url_imagen)\n",
    "\n",
    "if imagen is not None:\n",
    "    print(\"Se descargó la imagen.\")\n",
    "\n",
    "    nombre_zip = \"imagenes.zip\"\n",
    "    guardar_al_zip(nombre_zip, imagen)\n",
    "    print(f\"Imagen guardada en el zip: '{nombre_zip}'.\")\n",
    "\n",
    "    print(\"Extrayendo la imagen del archivo zip...\")\n",
    "    extraer_de_zip(nombre_zip)\n",
    "    print(\"Imagen extraída.\")\n",
    "\n",
    "else:\n",
    "    print(\"No hay imagen.\")\n"
   ]
  }
 ],
 "metadata": {
  "kernelspec": {
   "display_name": "Python 3",
   "language": "python",
   "name": "python3"
  },
  "language_info": {
   "codemirror_mode": {
    "name": "ipython",
    "version": 3
   },
   "file_extension": ".py",
   "mimetype": "text/x-python",
   "name": "python",
   "nbconvert_exporter": "python",
   "pygments_lexer": "ipython3",
   "version": "3.10.13"
  }
 },
 "nbformat": 4,
 "nbformat_minor": 2
}

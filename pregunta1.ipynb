{
 "cells": [
  {
   "cell_type": "markdown",
   "metadata": {},
   "source": [
    "Solicite al usuario por línea de comando un valor de “n” el cual representa la cantidad\n",
    "de bitcoins que posee el usuario.\n",
    "- Consulte la API del índice de precios de Bitcoin de CoinDesk en el siguiente link\n",
    "(https://api.coindesk.com/v1/bpi/currentprice.json), la cual retornará un objeto JSON,\n",
    "entre cuyas claves anidadas encontrará el precio actual de Bitcoin como un número\n",
    "decimal. Asegúrese de detectar cualquier excepción."
   ]
  },
  {
   "cell_type": "code",
   "execution_count": 17,
   "metadata": {},
   "outputs": [
    {
     "name": "stdout",
     "output_type": "stream",
     "text": [
      "El costo actual de 1.0 bitcoins en USD es: $49,930.6620\n"
     ]
    }
   ],
   "source": [
    "import requests\n",
    "\n",
    "def precio_bitcoin():\n",
    "    try:\n",
    "        response = requests.get(\"https://api.coindesk.com/v1/bpi/currentprice.json\")\n",
    "        response.raise_for_status()\n",
    "        #Recupero la informacion como json\n",
    "        data = response.json()\n",
    "        return data[\"bpi\"][\"USD\"][\"rate_float\"]        \n",
    "    except requests.RequestException as e:\n",
    "        print('Error al obtener el precio', e)\n",
    "        return None\n",
    "\n",
    "\n",
    "cantidad_bitcoins = float(input(\"Ingrese contidad de bitcoins en posesion:\"))\n",
    "bitcoin_dolar = precio_bitcoin()\n",
    "\n",
    "if bitcoin_dolar is not None:\n",
    "    # Calcular el costo en USD de la cantidad de bitcoins\n",
    "    costo_en_usd = cantidad_bitcoins * bitcoin_dolar\n",
    "\n",
    "    # Mostrar el costo actual de \"n\" bitcoins en USD con cuatro decimales y separador de miles\n",
    "    print(f\"El costo actual de {cantidad_bitcoins} bitcoins en USD es: ${costo_en_usd:,.4f}\")\n",
    "else:\n",
    "    print(\"No se pudo obtener el precio actual de Bitcoin.\")"
   ]
  }
 ],
 "metadata": {
  "kernelspec": {
   "display_name": "Python 3",
   "language": "python",
   "name": "python3"
  },
  "language_info": {
   "codemirror_mode": {
    "name": "ipython",
    "version": 3
   },
   "file_extension": ".py",
   "mimetype": "text/x-python",
   "name": "python",
   "nbconvert_exporter": "python",
   "pygments_lexer": "ipython3",
   "version": "3.10.13"
  }
 },
 "nbformat": 4,
 "nbformat_minor": 2
}

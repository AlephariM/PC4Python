{
 "cells": [
  {
   "cell_type": "code",
   "execution_count": null,
   "metadata": {},
   "outputs": [],
   "source": [
    "\n",
    "import requests\n",
    "import sqlite3\n",
    "from datetime import date, timedelta\n",
    "\n",
    "def obtener_tipo_cambio_fechae(fecha):\n",
    "    url = f\"https://api.apis.net.pe/v1/tipo-cambio-sunat?fecha={fecha}\"\n",
    "    response = requests.get(url)\n",
    "    data = response.json()\n",
    "    compra_dolar = data['compra']\n",
    "    venta_dolar = data['venta']\n",
    "    return compra_dolar, venta_dolar\n",
    "\n",
    "def main():\n",
    "    # Conectar a la base de datos sqllite\n",
    "    conexion = sqlite3.connect('base.db')\n",
    "    cursor = conexion.cursor()\n",
    "\n",
    "    # Crear la tabla si no existe\n",
    "    cursor.execute('''Create Table if not exists sunat_info (\n",
    "                        Fecha TEXT PRIMARY KEY,\n",
    "                        Compra REAL,\n",
    "                        Venta REAL\n",
    "                    )''')\n",
    "\n",
    "\n",
    "    primerdia = date(2023, 1, 1)\n",
    "    ultimodia = date(2023, 12, 31)\n",
    "    aumento1dia = timedelta(days=1)\n",
    "\n",
    "    f_actual = primerdia\n",
    "    while f_actual <= ultimodia:\n",
    "        compra_dolar, venta_dolar = obtener_tipo_cambio_fechae(f_actual.strftime('%Y-%m-%d'))\n",
    "\n",
    "        # Insertar los valores en la tabla\n",
    "        cursor.execute(\"Insert into sunat_info (Fecha, Compra, Venta) VALUES (?, ?, ?)\", (f_actual.strftime('%Y-%m-%d'), compra_dolar, venta_dolar))\n",
    "\n",
    "        #factual += 1\n",
    "        f_actual += aumento1dia\n",
    "\n",
    "    conexion.commit()\n",
    "    conexion.close()\n",
    "    print(\"Datos guardados en la base de datos 'base.db'\")\n",
    "\n",
    "if __name__ == \"__main__\":\n",
    "    main()"
   ]
  },
  {
   "cell_type": "code",
   "execution_count": 10,
   "metadata": {},
   "outputs": [
    {
     "name": "stdout",
     "output_type": "stream",
     "text": [
      "<sqlite3.Cursor object at 0x7fa1310cd640>\n",
      "[]\n"
     ]
    }
   ],
   "source": [
    "import sqlite3\n",
    "\n",
    "with sqlite3.connect('base.db') as conexion:\n",
    "    cursor = conexion.cursor()\n",
    "\n",
    "    # Recuperamos los registros de la tabla de usuarios\n",
    "    cursor.execute(\"SELECT * FROM sunat_info\")\n",
    "\n",
    "    # Mostrar el cursos a ver que hay ?\n",
    "    print(cursor)\n",
    "\n",
    "    # Recorremos el primer registro con el método fetchone, devuelve una tupla\n",
    "    usuario = cursor.fetchall()\n",
    "    pass\n",
    "\n",
    "print(usuario)"
   ]
  }
 ],
 "metadata": {
  "kernelspec": {
   "display_name": "Python 3",
   "language": "python",
   "name": "python3"
  },
  "language_info": {
   "codemirror_mode": {
    "name": "ipython",
    "version": 3
   },
   "file_extension": ".py",
   "mimetype": "text/x-python",
   "name": "python",
   "nbconvert_exporter": "python",
   "pygments_lexer": "ipython3",
   "version": "3.10.13"
  }
 },
 "nbformat": 4,
 "nbformat_minor": 2
}

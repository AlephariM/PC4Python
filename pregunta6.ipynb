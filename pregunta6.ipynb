{
 "cells": [
  {
   "cell_type": "code",
   "execution_count": 11,
   "metadata": {},
   "outputs": [
    {
     "name": "stdout",
     "output_type": "stream",
     "text": [
      "En el archivo p5.py hay 58 linea(s).\n"
     ]
    }
   ],
   "source": [
    "\n",
    "import requests\n",
    "\n",
    "def contar_lineas_darchivo(rutarch):\n",
    "    if rutarch.endswith(\".py\"):\n",
    "        try:\n",
    "            with open(rutarch, \"r\") as archivo:\n",
    "                lista_lineas = archivo.readlines()\n",
    "                contador = len(lista_lineas)\n",
    "\n",
    "            for linea_n in lista_lineas:\n",
    "                linea_n = linea_n.strip()\n",
    "                if linea_n == \"\" or linea_n.startswith(\"#\"):\n",
    "                    #contador=contador -1\n",
    "                    contador -= 1\n",
    "            print(f\"En el archivo {rutarch} hay {int(contador)} linea(s).\")\n",
    "        except FileNotFoundError:\n",
    "            print(\"Archivo no encontrado\")\n",
    "    else:\n",
    "        print( \"Error al ingresar la ruta\")\n",
    "\n",
    "def main():\n",
    "    ruta_archivo =input(\"Ingrese la ruta del archivo: \")\n",
    "    contar_lineas_darchivo(ruta_archivo)\n",
    "\n",
    "if __name__ == \"__main__\":\n",
    "    main()\n"
   ]
  }
 ],
 "metadata": {
  "kernelspec": {
   "display_name": "Python 3",
   "language": "python",
   "name": "python3"
  },
  "language_info": {
   "codemirror_mode": {
    "name": "ipython",
    "version": 3
   },
   "file_extension": ".py",
   "mimetype": "text/x-python",
   "name": "python",
   "nbconvert_exporter": "python",
   "pygments_lexer": "ipython3",
   "version": "3.10.13"
  }
 },
 "nbformat": 4,
 "nbformat_minor": 2
}

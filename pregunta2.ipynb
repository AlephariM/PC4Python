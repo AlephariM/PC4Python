{
 "cells": [
  {
   "cell_type": "code",
   "execution_count": 4,
   "metadata": {},
   "outputs": [
    {
     "name": "stdout",
     "output_type": "stream",
     "text": [
      "Collecting pyfiglet\n",
      "  Downloading pyfiglet-1.0.2-py3-none-any.whl.metadata (7.1 kB)\n",
      "Downloading pyfiglet-1.0.2-py3-none-any.whl (1.1 MB)\n",
      "\u001b[2K   \u001b[90m━━━━━━━━━━━━━━━━━━━━━━━━━━━━━━━━━━━━━━━━\u001b[0m \u001b[32m1.1/1.1 MB\u001b[0m \u001b[31m15.2 MB/s\u001b[0m eta \u001b[36m0:00:00\u001b[0m00:01\u001b[0m\n",
      "\u001b[?25hInstalling collected packages: pyfiglet\n",
      "Successfully installed pyfiglet-1.0.2\n",
      "Note: you may need to restart the kernel to use updated packages.\n"
     ]
    }
   ],
   "source": [
    "pip install pyfiglet"
   ]
  },
  {
   "cell_type": "code",
   "execution_count": 14,
   "metadata": {},
   "outputs": [
    {
     "name": "stdout",
     "output_type": "stream",
     "text": [
      "                                          \n",
      "    )     (                               \n",
      " ( /(     )\\   )            )         (   \n",
      " )\\()) ( ((_| /(   `  )  ( /( `  )   ))\\  \n",
      "((_)\\  )\\ _ )(_))  /(/(  )(_))/(/(  /((_) \n",
      "| |(_)((_) ((_)_  ((_)_\\((_)_((_)_\\(_))(  \n",
      "| ' \\/ _ \\ / _` | | '_ \\) _` | '_ \\) || | \n",
      "|_||_\\___/_\\__,_| | .__/\\__,_| .__/ \\_,_| \n",
      "                  |_|        |_|          \n",
      "\n"
     ]
    }
   ],
   "source": [
    "from pyfiglet import Figlet\n",
    "import random\n",
    "\n",
    "def fuente_aleatoria():\n",
    "    figlet = Figlet()\n",
    "    ListaFuentes = figlet.getFonts()\n",
    "    fuente_final = random.choice(ListaFuentes)\n",
    "    return fuente_final\n",
    "\n",
    "fuente_solicitada = input(\"Ingrese nombre de la fuente que desea (dejar vació será aleatoria): \").strip()\n",
    "\n",
    "if not fuente_solicitada :\n",
    "    fuente_solicitada = fuente_aleatoria()\n",
    "\n",
    "texto_ingresado = input(\"Ingrese el texto para imprimir: \")\n",
    "\n",
    "#buscar la fuente que se ingresó anteriormente\n",
    "fuente = Figlet(font=fuente_solicitada)\n",
    "\n",
    "print(fuente.renderText(texto_ingresado))"
   ]
  }
 ],
 "metadata": {
  "kernelspec": {
   "display_name": "Python 3",
   "language": "python",
   "name": "python3"
  },
  "language_info": {
   "codemirror_mode": {
    "name": "ipython",
    "version": 3
   },
   "file_extension": ".py",
   "mimetype": "text/x-python",
   "name": "python",
   "nbconvert_exporter": "python",
   "pygments_lexer": "ipython3",
   "version": "3.10.13"
  }
 },
 "nbformat": 4,
 "nbformat_minor": 2
}

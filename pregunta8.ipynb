{
 "cells": [
  {
   "cell_type": "code",
   "execution_count": 1,
   "metadata": {},
   "outputs": [],
   "source": [
    "import requests\n",
    "import sqlite3\n",
    "from datetime import date\n",
    "\n",
    "def obtener_bitcoin():\n",
    "    try:\n",
    "        response = requests.get(\"https://api.coindesk.com/v1/bpi/currentprice.json\")\n",
    "        response.raise_for_status()\n",
    "        return response.json()[\"bpi\"]\n",
    "    except requests.RequestException:\n",
    "        print(\"Error al obtener el precio del Bitcoin:\")\n",
    "        return None\n",
    "\n",
    "def tipo_cambio_sunat(fecha):\n",
    "    try:\n",
    "        url = f\"https://api.apis.net.pe/v1/tipo-cambio-sunat?fecha={fecha}\"\n",
    "        response = requests.get(url)\n",
    "        response.raise_for_status()\n",
    "        return response.json()[\"compra\"]\n",
    "    except requests.RequestException:\n",
    "        print(\"Error al obtener el tipo de cambio en dolar\")\n",
    "        return None\n",
    "    \n",
    "def guardar_bitcoin_en_basedatos():\n",
    "    precio_bitcoin = obtener_bitcoin()\n",
    "    \n",
    "    fecha_actual = date.today().strftime('%Y-%m-%d')\n",
    "    precio_dolar = tipo_cambio_sunat(fecha_actual)\n",
    "    \n",
    "    precio_soles = precio_bitcoin['USD']['rate_float'] * precio_dolar\n",
    "\n",
    "    conexion = sqlite3.connect('base.db')\n",
    "    cursor = conexion.cursor()\n",
    "\n",
    "    cursor.execute('''CREATE TABLE IF NOT EXISTS bitcoin (\n",
    "                        FECHA TEXT PRIMARY KEY,\n",
    "                        precio_usd REAL,\n",
    "                        precio_gbp REAL,\n",
    "                        precio_eur REAL,\n",
    "                        precio_pen REAL\n",
    "                    )''')\n",
    "\n",
    "    cursor.execute(\"INSERT INTO bitcoin (FECHA, precio_usd, precio_gbp, precio_eur, precio_pen) VALUES (?, ?, ?, ?, ?)\",\n",
    "                   (fecha_actual, precio_bitcoin['USD']['rate_float'], precio_bitcoin['GBP']['rate_float'],\n",
    "                    precio_bitcoin['EUR']['rate_float'], precio_soles))\n",
    "\n",
    "    conexion.commit()\n",
    "    conexion.close()\n",
    "\n",
    "    print(\"Datos guardados en la tabla 'bitcoin' de la base de datos 'base.db'\")"
   ]
  },
  {
   "cell_type": "code",
   "execution_count": 2,
   "metadata": {},
   "outputs": [
    {
     "name": "stdout",
     "output_type": "stream",
     "text": [
      "Datos guardados en la tabla 'bitcoin' de la base de datos 'base.db'\n"
     ]
    }
   ],
   "source": [
    "guardar_bitcoin_en_basedatos()"
   ]
  },
  {
   "cell_type": "code",
   "execution_count": 3,
   "metadata": {},
   "outputs": [
    {
     "name": "stdout",
     "output_type": "stream",
     "text": [
      "El precio de compra de 10 bitcoins en soles es: 1944202.20 soles\n",
      "El precio de compra de 10 bitcoins en euros es: 471522.39 euros\n"
     ]
    }
   ],
   "source": [
    "import sqlite3\n",
    "\n",
    "def calcular_compra(cant_bitcoins, moneda):\n",
    "    \n",
    "    conn = sqlite3.connect('base.db')\n",
    "    cursor = conn.cursor()\n",
    "\n",
    "    cursor.execute(f\"SELECT PRECIO_{moneda.upper()} FROM bitcoin ORDER BY FECHA DESC LIMIT 1\")\n",
    "    precio_bitcoin = cursor.fetchone()[0]\n",
    "\n",
    "    precio_compra = cant_bitcoins * precio_bitcoin\n",
    "\n",
    "    conn.close()\n",
    "\n",
    "    return precio_compra\n",
    "\n",
    "precio_pen = calcular_compra(10, 'pen')\n",
    "print(f\"El precio de compra de 10 bitcoins en soles es: {precio_pen:.2f} soles\")\n",
    "\n",
    "precio_eur = calcular_compra(10, 'eur')\n",
    "print(f\"El precio de compra de 10 bitcoins en euros es: {precio_eur:.2f} euros\")"
   ]
  }
 ],
 "metadata": {
  "kernelspec": {
   "display_name": "Python 3",
   "language": "python",
   "name": "python3"
  },
  "language_info": {
   "codemirror_mode": {
    "name": "ipython",
    "version": 3
   },
   "file_extension": ".py",
   "mimetype": "text/x-python",
   "name": "python",
   "nbconvert_exporter": "python",
   "pygments_lexer": "ipython3",
   "version": "3.10.13"
  }
 },
 "nbformat": 4,
 "nbformat_minor": 2
}
